{
 "cells": [
  {
   "cell_type": "markdown",
   "id": "519b36a0",
   "metadata": {
    "id": "519b36a0"
   },
   "source": [
    "# Car Classification Model Training\n",
    "\n",
    "This notebook trains a Hybrid ResNet-ViT model for Indonesian car classification using the collected dataset. The model combines ResNet-50 as a feature extractor with a Vision Transformer for classification.\n",
    "\n",
    "## Dataset Structure\n",
    "- **Classes**: 8 Indonesian car types (hatchback, mpv, offroad, pickup, sedan, suv, truck, van)\n",
    "- **Architecture**: Hybrid ResNet-ViT combining CNN and Transformer\n",
    "- **Training Strategy**: Transfer learning with data augmentation\n",
    "- **Class Imbalance**: Handled using weighted loss function for better minority class performance\n",
    "\n",
    "## Training Process\n",
    "1. Dataset exploration and class imbalance analysis\n",
    "2. Model training with weighted loss and comprehensive tracking\n",
    "3. Performance analysis with detailed charts and metrics\n",
    "4. Model evaluation with per-class analysis and confusion matrix\n",
    "5. Training insights and recommendations for optimization"
   ]
  },
  {
   "cell_type": "code",
   "execution_count": null,
   "id": "9ed485ee-8383-441d-980d-01e580156731",
   "metadata": {
    "execution": {
     "iopub.execute_input": "2025-06-23T10:30:35.286466Z",
     "iopub.status.busy": "2025-06-23T10:30:35.286314Z",
     "iopub.status.idle": "2025-06-23T10:33:20.796442Z",
     "shell.execute_reply": "2025-06-23T10:33:20.795717Z",
     "shell.execute_reply.started": "2025-06-23T10:30:35.286450Z"
    },
    "trusted": true
   },
   "outputs": [],
   "source": [
    "!rm -rf /kaggle/working\n",
    "!git clone https://github.com/luthfiarifin/Hybrid-RViT-Car-Retrieval.git code\n",
    "!mv code/* .\n",
    "!ls"
   ]
  },
  {
   "cell_type": "code",
   "execution_count": null,
   "id": "808919f2",
   "metadata": {
    "colab": {
     "base_uri": "https://localhost:8080/"
    },
    "execution": {
     "iopub.execute_input": "2025-06-23T10:33:20.797545Z",
     "iopub.status.busy": "2025-06-23T10:33:20.797324Z",
     "iopub.status.idle": "2025-06-23T10:33:25.831803Z",
     "shell.execute_reply": "2025-06-23T10:33:25.831010Z",
     "shell.execute_reply.started": "2025-06-23T10:33:20.797520Z"
    },
    "id": "808919f2",
    "outputId": "9dc5ada8-e887-44f7-eb53-8a5d05abb6a1",
    "trusted": true
   },
   "outputs": [],
   "source": [
    "# Import required libraries\n",
    "\n",
    "import torch\n",
    "import time\n",
    "from datetime import datetime\n",
    "\n",
    "print(\"Libraries imported successfully!\")\n",
    "print(f\"PyTorch version: {torch.__version__}\")\n",
    "print(f\"CUDA available: {torch.cuda.is_available()}\")\n",
    "if torch.cuda.is_available():\n",
    "    print(f\"CUDA device: {torch.cuda.get_device_name(0)}\")\n",
    "    print(\n",
    "        f\"CUDA memory: {torch.cuda.get_device_properties(0).total_memory / 1024**3:.1f} GB\"\n",
    "    )"
   ]
  },
  {
   "cell_type": "code",
   "execution_count": null,
   "id": "ba02eb53",
   "metadata": {
    "colab": {
     "base_uri": "https://localhost:8080/"
    },
    "execution": {
     "iopub.execute_input": "2025-06-23T10:33:25.833896Z",
     "iopub.status.busy": "2025-06-23T10:33:25.833572Z",
     "iopub.status.idle": "2025-06-23T10:39:09.429530Z",
     "shell.execute_reply": "2025-06-23T10:39:09.428864Z",
     "shell.execute_reply.started": "2025-06-23T10:33:25.833877Z"
    },
    "id": "ba02eb53",
    "outputId": "f4603e29-ba47-4a45-9d4c-2c1a04e46790",
    "trusted": true
   },
   "outputs": [],
   "source": [
    "# Training configuration\n",
    "\n",
    "from models.classification.train_classification import CarClassifierTrainer\n",
    "from models.classification.train_classification_eval import DatasetExplorer\n",
    "\n",
    "\n",
    "CONFIG = {\n",
    "    \"train_dir\": \"data_processing/data/dataset/train\",\n",
    "    \"val_dir\": \"data_processing/data/dataset/val\",\n",
    "    \"num_classes\": 8,\n",
    "    \"embed_dim\": 192,\n",
    "    \"num_heads\": 8,\n",
    "    \"dropout\": 0.2,\n",
    "    \"learning_rate\": 1e-4,\n",
    "    \"batch_size\": 64,\n",
    "    \"num_epochs\": 25,\n",
    "    \"result_path\": f'models/results/carvit_model_{datetime.now().strftime(\"%Y%m%d_%H%M%S\")}.pth',\n",
    "    \"use_weighted_loss\": True,\n",
    "    \"use_class_balancing\": False,\n",
    "    \"num_workers\": 8,\n",
    "    \"early_stopping_patience\": 7,\n",
    "    \"early_stopping_delta\": 0.001,\n",
    "    \"early_stopping_verbose\": True,\n",
    "}\n",
    "\n",
    "# Generate and summary report\n",
    "explorer = DatasetExplorer(\n",
    "    train_dir=CONFIG[\"train_dir\"],\n",
    "    val_dir=CONFIG[\"val_dir\"],\n",
    ")\n",
    "explorer.summary_report()\n",
    "\n",
    "# Initialize the trainer\n",
    "print(\"\\n=== Initializing Trainer with Class Imbalance Handling & Early Stopping ===\")\n",
    "trainer = CarClassifierTrainer(\n",
    "    train_dir=CONFIG[\"train_dir\"],\n",
    "    val_dir=CONFIG[\"val_dir\"],\n",
    "    num_classes=CONFIG[\"num_classes\"],\n",
    "    embed_dim=CONFIG[\"embed_dim\"],\n",
    "    num_heads=CONFIG[\"num_heads\"],\n",
    "    dropout=CONFIG[\"dropout\"],\n",
    "    learning_rate=CONFIG[\"learning_rate\"],\n",
    "    batch_size=CONFIG[\"batch_size\"],\n",
    "    num_epochs=CONFIG[\"num_epochs\"],\n",
    "    result_path=CONFIG[\"result_path\"],\n",
    "    use_weighted_loss=CONFIG[\"use_weighted_loss\"],\n",
    "    use_class_balancing=CONFIG[\"use_class_balancing\"],\n",
    "    num_workers=CONFIG[\"num_workers\"],\n",
    "    early_stopping_patience=CONFIG[\"early_stopping_patience\"],\n",
    "    early_stopping_delta=CONFIG[\"early_stopping_delta\"],\n",
    "    early_stopping_verbose=CONFIG[\"early_stopping_verbose\"],\n",
    ")\n",
    "\n",
    "print(\"Trainer initialized successfully!\")\n",
    "print(f\"Training samples: {len(trainer.train_dataset)}\")\n",
    "print(f\"Validation samples: {len(trainer.val_dataset)}\")\n",
    "print(f\"Number of batches per epoch: {len(trainer.train_loader)}\")\n",
    "print(f\"Class names: {trainer.train_dataset.classes}\")"
   ]
  },
  {
   "cell_type": "code",
   "execution_count": null,
   "id": "c9649852",
   "metadata": {
    "colab": {
     "base_uri": "https://localhost:8080/"
    },
    "execution": {
     "iopub.execute_input": "2025-06-23T10:39:09.430889Z",
     "iopub.status.busy": "2025-06-23T10:39:09.430291Z",
     "iopub.status.idle": "2025-06-23T11:57:05.417193Z",
     "shell.execute_reply": "2025-06-23T11:57:05.416525Z",
     "shell.execute_reply.started": "2025-06-23T10:39:09.430864Z"
    },
    "id": "c9649852",
    "outputId": "70630eb3-963a-4219-db31-56be90fff178",
    "trusted": true
   },
   "outputs": [],
   "source": [
    "# Start training with detailed tracking\n",
    "start_time = time.time()\n",
    "\n",
    "# Execute training\n",
    "training_results = trainer.train()\n",
    "\n",
    "# Print training results\n",
    "total_time = time.time() - start_time\n",
    "print(f\"\\n=== Training Completed in {total_time:.2f} seconds ===\")"
   ]
  },
  {
   "cell_type": "code",
   "execution_count": null,
   "id": "165a5ace",
   "metadata": {
    "colab": {
     "base_uri": "https://localhost:8080/",
     "height": 737
    },
    "execution": {
     "iopub.execute_input": "2025-06-23T11:57:05.418271Z",
     "iopub.status.busy": "2025-06-23T11:57:05.417990Z",
     "iopub.status.idle": "2025-06-23T11:58:26.809642Z",
     "shell.execute_reply": "2025-06-23T11:58:26.808886Z",
     "shell.execute_reply.started": "2025-06-23T11:57:05.418252Z"
    },
    "id": "165a5ace",
    "outputId": "b5cfdd33-8bea-45c6-b695-028649046723",
    "trusted": true
   },
   "outputs": [],
   "source": [
    "# Generate the full report\n",
    "from models.classification.train_classification_eval import TrainingEvaluation\n",
    "\n",
    "report = TrainingEvaluation(trainer, CONFIG, training_results)\n",
    "\n",
    "report.full_report()"
   ]
  },
  {
   "cell_type": "code",
   "execution_count": null,
   "id": "facdf818",
   "metadata": {
    "execution": {
     "iopub.execute_input": "2025-06-23T11:58:26.810715Z",
     "iopub.status.busy": "2025-06-23T11:58:26.810390Z",
     "iopub.status.idle": "2025-06-23T11:58:55.445836Z",
     "shell.execute_reply": "2025-06-23T11:58:55.445073Z",
     "shell.execute_reply.started": "2025-06-23T11:58:26.810697Z"
    },
    "trusted": true
   },
   "outputs": [],
   "source": [
    "# Test the classification model test images and display predictions\n",
    "import os\n",
    "\n",
    "from models.classification.test_classification import CarClassificationTester\n",
    "\n",
    "test_dir = \"data_processing/data/dataset/test\"\n",
    "class_names = [\n",
    "    d for d in sorted(os.listdir(test_dir)) if os.path.isdir(os.path.join(test_dir, d))\n",
    "]\n",
    "tester = CarClassificationTester(\n",
    "    test_dir=test_dir,\n",
    "    class_names=class_names,\n",
    "    model_path=None,\n",
    "    num_classes=len(class_names),\n",
    "    grid_rows=8,\n",
    "    grid_cols=10,\n",
    "    embed_dim=768,\n",
    "    num_heads=12,\n",
    "    dropout=0.1,\n",
    ")\n",
    "\n",
    "tester.plot_predictions()"
   ]
  }
 ],
 "metadata": {
  "accelerator": "GPU",
  "colab": {
   "gpuType": "T4",
   "include_colab_link": true,
   "provenance": []
  },
  "kaggle": {
   "accelerator": "gpu",
   "dataSources": [],
   "dockerImageVersionId": 31041,
   "isGpuEnabled": true,
   "isInternetEnabled": true,
   "language": "python",
   "sourceType": "notebook"
  },
  "kernelspec": {
   "display_name": ".venv",
   "language": "python",
   "name": "python3"
  },
  "language_info": {
   "codemirror_mode": {
    "name": "ipython",
    "version": 3
   },
   "file_extension": ".py",
   "mimetype": "text/x-python",
   "name": "python",
   "nbconvert_exporter": "python",
   "pygments_lexer": "ipython3",
   "version": "3.12.2"
  }
 },
 "nbformat": 4,
 "nbformat_minor": 5
}
